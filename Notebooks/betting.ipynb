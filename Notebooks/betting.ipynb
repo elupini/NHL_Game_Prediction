{
 "cells": [
  {
   "cell_type": "markdown",
   "metadata": {},
   "source": [
    "# Betting"
   ]
  },
  {
   "cell_type": "markdown",
   "metadata": {},
   "source": [
    "### Import Packages"
   ]
  },
  {
   "cell_type": "code",
   "execution_count": null,
   "metadata": {},
   "outputs": [],
   "source": [
    "import pandas as pd\n",
    "import numpy as np\n",
    "from functions.betting_functions import *\n",
    "import plotly.graph_objects as go\n",
    "import matplotlib.pyplot as plt\n",
    "from matplotlib.pyplot import figure"
   ]
  },
  {
   "cell_type": "markdown",
   "metadata": {},
   "source": [
    "### Load Data"
   ]
  },
  {
   "cell_type": "code",
   "execution_count": null,
   "metadata": {},
   "outputs": [],
   "source": [
    "# Depending on the seasons you chose in the preprocessing step\n",
    "# the filepath might need to be altered\n",
    "y_pred = pd.read_csv('../Data/predictions.csv')\n",
    "odds_2018_2019 = pd.read_excel('../Data/nhl_odds_2018-19.xlsx')"
   ]
  },
  {
   "cell_type": "markdown",
   "metadata": {},
   "source": [
    "### Process Odds and Merge with Predictions"
   ]
  },
  {
   "cell_type": "code",
   "execution_count": null,
   "metadata": {},
   "outputs": [],
   "source": [
    "dates = convert_to_EST(y_pred)\n",
    "y_pred_cleaned = clean_team_names(dates)\n",
    "\n",
    "# Adjust this based on which season you are predicting\n",
    "# here we are predicting the 2018/2019 season\n",
    "year = '1819'\n",
    "odds_cleaned = convert_odds_date(odds,year)\n",
    "odds_df = preprocess_odds_dataframe(odds_cleaned)\n",
    "merged = merge_odds_predictions(y_pred_cleaned, odds_df)"
   ]
  },
  {
   "cell_type": "markdown",
   "metadata": {},
   "source": [
    "#### Create Baseline Betting Model"
   ]
  },
  {
   "cell_type": "code",
   "execution_count": null,
   "metadata": {},
   "outputs": [],
   "source": [
    "profit_baseline, total_bet_baseline, profit_time_baseline, total_bet_time_baseline, bets_placed_baseline = predict_baseline(merged)"
   ]
  },
  {
   "cell_type": "code",
   "execution_count": null,
   "metadata": {},
   "outputs": [],
   "source": [
    "profit_time_baseline_graph = np.array(profit_time_baseline)\n",
    "total_bet_time_baseline_graph = np.array(total_bet_time_baseline)\n",
    "ror_baseline = profit_time_baseline_graph/total_bet_time_baseline_graph"
   ]
  },
  {
   "cell_type": "markdown",
   "metadata": {},
   "source": [
    "#### Create Predictive Betting Model"
   ]
  },
  {
   "cell_type": "code",
   "execution_count": null,
   "metadata": {},
   "outputs": [],
   "source": [
    "profit_model, total_bet_model, profit_time_model, total_bet_time_model, bets_placed_model = make_money(merged)"
   ]
  },
  {
   "cell_type": "code",
   "execution_count": null,
   "metadata": {},
   "outputs": [],
   "source": [
    "profit_time_model_graph = np.array(profit_time_model)\n",
    "total_bet_time_graph = np.array(total_bet_time_model)\n",
    "ror_prediction = profit_time_model_graph/total_bet_time_graph"
   ]
  },
  {
   "cell_type": "markdown",
   "metadata": {},
   "source": [
    "#### Create Selective Betting Model"
   ]
  },
  {
   "cell_type": "code",
   "execution_count": null,
   "metadata": {},
   "outputs": [],
   "source": [
    "dates = get_betting_dates(merged)\n",
    "profit_selective, profit_time_selective, total_wager_time_selective, total_wager_selective, games_bet_on_selective = selective_betting(merged, dates)"
   ]
  },
  {
   "cell_type": "code",
   "execution_count": null,
   "metadata": {},
   "outputs": [],
   "source": [
    "selective_pred_df = process_selective_model(games_bet_on_selective, profit_time_selective, total_wager_time_selective, merged)"
   ]
  },
  {
   "cell_type": "markdown",
   "metadata": {},
   "source": [
    "### Plot Figure"
   ]
  },
  {
   "cell_type": "code",
   "execution_count": null,
   "metadata": {},
   "outputs": [],
   "source": [
    "figure(num=None, figsize=(12, 6), dpi=80, facecolor='w', edgecolor='k')\n",
    "# line 1 points\n",
    "x1 = np.arange(len(ror_baseline))\n",
    "y1 = ror_baseline * 100\n",
    "# plotting the line 1 points \n",
    "plt.plot(x1, y1, label = \"Baseline\")\n",
    "# line 2 points\n",
    "x2 = np.arange(len(ror_baseline))\n",
    "y2 = ror_prediction * 100\n",
    "# plotting the line 2 points \n",
    "plt.plot(x2, y2, label = \"Prediction Model\")\n",
    "# line 3 points\n",
    "x3 = np.arange(len(ror_baseline))\n",
    "y3 = selective_pred_df['rate_of_return'] * 100\n",
    "plt.plot(x3, y3, label = \"Selective Betting Prediction Model\")\n",
    "plt.xlabel('Games')\n",
    "# Set the y axis label of the current axis.\n",
    "plt.ylabel('Rate of Return (%)')\n",
    "# Set a title of the current axes.\n",
    "plt.title(\"Baseline vs. Predictive vs. Selective Betting Models - 2018/2019 Season\")\n",
    "# show a legend on the plot\n",
    "plt.legend()\n",
    "# Display a figure.\n",
    "plt.show()"
   ]
  }
 ],
 "metadata": {
  "kernelspec": {
   "display_name": "bootcamp_env",
   "language": "python",
   "name": "bootcamp_env"
  },
  "language_info": {
   "codemirror_mode": {
    "name": "ipython",
    "version": 3
   },
   "file_extension": ".py",
   "mimetype": "text/x-python",
   "name": "python",
   "nbconvert_exporter": "python",
   "pygments_lexer": "ipython3",
   "version": "3.8.3"
  }
 },
 "nbformat": 4,
 "nbformat_minor": 4
}
