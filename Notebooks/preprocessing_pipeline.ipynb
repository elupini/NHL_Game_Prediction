{
 "cells": [
  {
   "cell_type": "markdown",
   "metadata": {},
   "source": [
    "# Preprocessing Pipeline"
   ]
  },
  {
   "cell_type": "markdown",
   "metadata": {},
   "source": [
    "All the following cells can be run to create the dataframe needed for the modelling phase.\n",
    "The output file will be opened in the Modelling notebook."
   ]
  },
  {
   "cell_type": "markdown",
   "metadata": {},
   "source": [
    "### Import Packages"
   ]
  },
  {
   "cell_type": "code",
   "execution_count": 1,
   "metadata": {},
   "outputs": [],
   "source": [
    "import numpy as np\n",
    "import pickle\n",
    "import pandas as pd\n",
    "from functions.preprocessing_functions import *"
   ]
  },
  {
   "cell_type": "code",
   "execution_count": 2,
   "metadata": {},
   "outputs": [],
   "source": [
    "import warnings\n",
    "warnings.filterwarnings(\"ignore\")"
   ]
  },
  {
   "cell_type": "markdown",
   "metadata": {},
   "source": [
    "### Load Data"
   ]
  },
  {
   "cell_type": "code",
   "execution_count": 3,
   "metadata": {},
   "outputs": [],
   "source": [
    "advanced_stats = pickle.load(open('../Data/full_advanced_stats', 'rb'))\n",
    "game = pd.read_csv('../Data/game.csv')\n",
    "game_teams_stats = pd.read_csv('../Data/game_teams_stats.csv')\n",
    "team_info = pd.read_csv('../Data/team_info.csv')\n",
    "game_goalie_stats = pd.read_csv('../Data/game_goalie_stats.csv')\n",
    "game_shifts = pd.read_csv('../Data/game_shifts.csv')"
   ]
  },
  {
   "cell_type": "markdown",
   "metadata": {},
   "source": [
    "### Amalgamate data into one main dataframe"
   ]
  },
  {
   "cell_type": "code",
   "execution_count": 4,
   "metadata": {},
   "outputs": [],
   "source": [
    "# Remove older seasons from data\n",
    "# Pass list of seasons to keep\n",
    "df_game = select_seasons([20152016],game)"
   ]
  },
  {
   "cell_type": "code",
   "execution_count": 5,
   "metadata": {},
   "outputs": [],
   "source": [
    "# Remove bug\n",
    "to_delete = df_game[(df_game['game_id']==2017020172)].index\n",
    "df_game = df_game.drop(to_delete)\n",
    "\n",
    "# Prepare advanced stats\n",
    "advanced_stats = advanced_stats.reset_index()\n",
    "\n",
    "# Remove playoff games\n",
    "playoff_games = df_game.loc[(df_game['type']=='P')].index\n",
    "df_game = df_game.drop(playoff_games)\n",
    "\n",
    "# Get unique team IDs\n",
    "unique_ids = df_game.away_team_id.unique()\n",
    "\n",
    "# Create target variable for modelling\n",
    "df_game['target'] = df_game['outcome'].apply(lambda x: get_outcome(x))\n",
    "\n",
    "# Combine games data with advanced stats\n",
    "df_game = df_game.merge(advanced_stats, left_on='game_id', right_on='index', how='left')\n",
    "\n",
    "# Clean game stats data\n",
    "game_teams_stats_cleaned = combine_home_away(game_teams_stats)\n",
    "\n",
    "# Drop columns before merge\n",
    "game_teams_stats_cleaned = game_teams_stats_cleaned.drop(columns=['away_team_id','home_team_id','away_goals','home_goals'])\n",
    "\n",
    "# Merge game stats with main dataframe\n",
    "df_game = pd.merge(df_game, game_teams_stats_cleaned, on='game_id')\n",
    "\n",
    "# Add dates to goalie dataframe\n",
    "game_goalie_dates = add_dates(game, game_goalie_stats)\n",
    "\n",
    "# get starting goalies\n",
    "starting_goaltenders = get_starting_goalies(df_game, game_goalie_dates, game_shifts)"
   ]
  },
  {
   "cell_type": "code",
   "execution_count": 6,
   "metadata": {},
   "outputs": [],
   "source": [
    "# get rolling goalie stats\n",
    "main_df = goalie_rolling_stats(5, starting_goaltenders, game_goalie_dates)\n",
    "main_df = goalie_rolling_stats(10, main_df, game_goalie_dates)\n",
    "main_df = goalie_rolling_stats(40, main_df, game_goalie_dates)\n",
    "\n",
    "# Create differentials\n",
    "main_df = get_goalie_differentials(main_df)\n",
    "\n",
    "# get head to head stats\n",
    "main_df = get_head_2_head(main_df, 10)\n",
    "main_df = get_head_2_head(main_df, 5)\n",
    "main_df = get_head_2_head(main_df, 2)"
   ]
  },
  {
   "cell_type": "code",
   "execution_count": 7,
   "metadata": {},
   "outputs": [],
   "source": [
    "# Get win pct feature\n",
    "team_win_pct = get_win_pct(main_df, unique_ids, 10)\n",
    "team_win_pct = get_win_pct(team_win_pct, unique_ids, 40)\n",
    "team_win_pct = get_win_pct(team_win_pct, unique_ids, 82)\n",
    "\n",
    "# Create Differentials\n",
    "merged_df = get_win_differentials(team_win_pct)\n",
    "\n",
    "# Get advanced Corsi/Fenwick Stats\n",
    "merged_df = get_rolling_averages_corsi_fenwick(merged_df, unique_ids, 3)\n",
    "merged_df = get_rolling_averages_corsi_fenwick(merged_df, unique_ids, 10)\n",
    "merged_df = get_rolling_averages_corsi_fenwick(merged_df, unique_ids, 40)\n",
    "\n",
    "# Create Differentials\n",
    "merged_df = get_corsi_differentials(merged_df)\n",
    "\n",
    "# Get basic game stats\n",
    "merged_df = get_avg_stats(merged_df, unique_ids, 5)\n",
    "merged_df = get_avg_stats(merged_df, unique_ids, 40)\n",
    "merged_df = get_avg_stats(merged_df, unique_ids, 82)\n",
    "\n",
    "# Create Differentials\n",
    "merged_df = get_stats_differentials(merged_df)"
   ]
  },
  {
   "cell_type": "code",
   "execution_count": 8,
   "metadata": {},
   "outputs": [],
   "source": [
    "# Select columns\n",
    "nhl_data = select_preprocessing_columns(merged_df)"
   ]
  },
  {
   "cell_type": "code",
   "execution_count": 10,
   "metadata": {},
   "outputs": [],
   "source": [
    "# Drop Null Values\n",
    "nhl_data = nhl_data.dropna()"
   ]
  },
  {
   "cell_type": "code",
   "execution_count": 30,
   "metadata": {},
   "outputs": [],
   "source": [
    "nhl_data.to_csv('../Data/preprocessed_df.csv')"
   ]
  }
 ],
 "metadata": {
  "kernelspec": {
   "display_name": "bootcamp_env",
   "language": "python",
   "name": "bootcamp_env"
  },
  "language_info": {
   "codemirror_mode": {
    "name": "ipython",
    "version": 3
   },
   "file_extension": ".py",
   "mimetype": "text/x-python",
   "name": "python",
   "nbconvert_exporter": "python",
   "pygments_lexer": "ipython3",
   "version": "3.8.3"
  }
 },
 "nbformat": 4,
 "nbformat_minor": 4
}
