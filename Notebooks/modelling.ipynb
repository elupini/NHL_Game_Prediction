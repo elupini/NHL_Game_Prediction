{
 "cells": [
  {
   "cell_type": "markdown",
   "metadata": {},
   "source": [
    "# Modelling"
   ]
  },
  {
   "cell_type": "markdown",
   "metadata": {},
   "source": [
    "### Import Packages"
   ]
  },
  {
   "cell_type": "code",
   "execution_count": 313,
   "metadata": {},
   "outputs": [],
   "source": [
    "sys.path.insert(0, '/NHL_Game_Prediction/Functions/')\n",
    "from functions.modelling_functions import *\n",
    "import numpy as np\n",
    "import pickle\n",
    "import pandas as pd\n",
    "from sklearn.linear_model import LogisticRegression\n",
    "from sklearn.metrics import precision_score, recall_score, accuracy_score, f1_score\n",
    "from sklearn import metrics\n",
    "from sklearn.preprocessing import StandardScaler\n",
    "from sklearn import model_selection"
   ]
  },
  {
   "cell_type": "code",
   "execution_count": 314,
   "metadata": {},
   "outputs": [],
   "source": [
    "import warnings\n",
    "warnings.filterwarnings(\"ignore\")"
   ]
  },
  {
   "cell_type": "markdown",
   "metadata": {},
   "source": [
    "### Load Data"
   ]
  },
  {
   "cell_type": "code",
   "execution_count": 315,
   "metadata": {},
   "outputs": [],
   "source": [
    "nhl_df = pd.read_csv('../Data/preprocessed_df.csv')\n",
    "team_info = pd.read_csv('../Data/team_info.csv')"
   ]
  },
  {
   "cell_type": "code",
   "execution_count": 316,
   "metadata": {},
   "outputs": [],
   "source": [
    "nhl_df = nhl_df.sort_values(by='date_time_GMT_x').reset_index(drop=True)"
   ]
  },
  {
   "cell_type": "code",
   "execution_count": 318,
   "metadata": {},
   "outputs": [],
   "source": [
    "# Get relevant columns\n",
    "final_df = get_modelling_columns(nhl_df)"
   ]
  },
  {
   "cell_type": "code",
   "execution_count": 319,
   "metadata": {},
   "outputs": [],
   "source": [
    "y = final_df['target']\n",
    "X = final_df.drop(columns=['target'])\n",
    "\n",
    "# Scale Data\n",
    "scaler = StandardScaler()\n",
    "scaled_data = scaler.fit_transform(X)\n",
    "scaled_df = pd.DataFrame(scaled_data, columns=X.columns)"
   ]
  },
  {
   "cell_type": "code",
   "execution_count": 320,
   "metadata": {},
   "outputs": [],
   "source": [
    "# Split Data\n",
    "split_marker = round(0.75 * len(X))\n",
    "\n",
    "X_train = scaled_df[:split_marker]\n",
    "Y_train = y.iloc[:split_marker]\n",
    "X_test = scaled_df[split_marker:]\n",
    "Y_test = y.iloc[split_marker:]"
   ]
  },
  {
   "cell_type": "markdown",
   "metadata": {},
   "source": [
    "#### Logistic Regression"
   ]
  },
  {
   "cell_type": "code",
   "execution_count": null,
   "metadata": {},
   "outputs": [],
   "source": [
    "lr = LogisticRegression(class_weight='balanced', C=0.1, penalty='l1', solver='liblinear')\n",
    "lr.fit(X_train, Y_train)\n",
    "y_pred = lr.predict(X_test)\n",
    "proba = lr.predict_proba(X_test)\n",
    "print(\"Accuracy is\", accuracy_score(Y_test,y_pred))\n",
    "print(\"Precision is\", precision_score(Y_test,y_pred))\n",
    "print(\"Recall is\", recall_score(Y_test,y_pred))\n",
    "print(\"f1 score is\", f1_score(Y_test,y_pred))"
   ]
  },
  {
   "cell_type": "code",
   "execution_count": 78,
   "metadata": {},
   "outputs": [],
   "source": [
    "# Exports results to the betting phase\n",
    "to_betting = process_predictions(y_pred, proba, nhl_df, team_info)\n",
    "to_betting.to_csv('../Data/predictions.csv')"
   ]
  }
 ],
 "metadata": {
  "kernelspec": {
   "display_name": "bootcamp_env",
   "language": "python",
   "name": "bootcamp_env"
  },
  "language_info": {
   "codemirror_mode": {
    "name": "ipython",
    "version": 3
   },
   "file_extension": ".py",
   "mimetype": "text/x-python",
   "name": "python",
   "nbconvert_exporter": "python",
   "pygments_lexer": "ipython3",
   "version": "3.8.3"
  }
 },
 "nbformat": 4,
 "nbformat_minor": 4
}
