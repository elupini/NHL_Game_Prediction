{
 "cells": [
  {
   "cell_type": "markdown",
   "metadata": {},
   "source": [
    "## NHL API"
   ]
  },
  {
   "cell_type": "code",
   "execution_count": 440,
   "metadata": {},
   "outputs": [],
   "source": [
    "import requests as re\n",
    "import json\n",
    "from IPython.display import JSON\n",
    "import pandas as pd\n",
    "import pickle\n",
    "from tqdm.notebook import tqdm\n",
    "import datetime"
   ]
  },
  {
   "cell_type": "markdown",
   "metadata": {},
   "source": [
    "#### Below Cells will create DataFrame containing Corsi and Fenwick Stats, indexed by GameID"
   ]
  },
  {
   "cell_type": "code",
   "execution_count": 405,
   "metadata": {},
   "outputs": [],
   "source": [
    "game = pd.read_csv('../Data/game.csv')"
   ]
  },
  {
   "cell_type": "code",
   "execution_count": 444,
   "metadata": {},
   "outputs": [],
   "source": [
    "game_list_full = game.game_id.unique()"
   ]
  },
  {
   "cell_type": "code",
   "execution_count": null,
   "metadata": {},
   "outputs": [],
   "source": [
    "# Run before main loop\n",
    "game_dict = get_game_data(game_list_full)\n",
    "master_dict = {}\n",
    "columns=['corsi_for', 'corsi_against', 'cf_pct', 'ca_pct', 'fenwick_for', 'fenwick_against', 'ff_pct', 'fa_pct']\n",
    "i = 0"
   ]
  },
  {
   "cell_type": "markdown",
   "metadata": {},
   "source": [
    "### Execute Main API Call\n",
    "    - The data from this call is stored already in the data folder, so don't run this unless you want to"
   ]
  },
  {
   "cell_type": "code",
   "execution_count": null,
   "metadata": {},
   "outputs": [],
   "source": [
    "### Main Harness ###\n",
    "for key, value in loaded_dict.items():\n",
    "    \n",
    "    if value == 0:\n",
    "        \n",
    "        continue\n",
    "    \n",
    "    # Create dataframe of chronological game plays\n",
    "    play_df = get_play_df(value)\n",
    "    \n",
    "    # Create timestamp column representing gametime in seconds\n",
    "    try:\n",
    "        play_df['timestamp'] = play_df.apply(lambda x: get_seconds(x.time_of_event, x.period), axis=1)\n",
    "    except Exception as e:\n",
    "        \n",
    "        print('\\n======EXCEPTION=====')\n",
    "        print(e)\n",
    "        \n",
    "        continue\n",
    "    \n",
    "    # Calculate shots based on even strength play\n",
    "    home_shots, away_shots, home_blocked_shots, away_blocked_shots = count_all_shots(play_df)\n",
    "    \n",
    "    # Calculate Fenwick and Corsi stats\n",
    "    stats = calc_advanced_stats(home_shots, away_shots, home_blocked_shots, away_blocked_shots)\n",
    "    \n",
    "    # Create dictionary holding the advanced stats\n",
    "    test_dict = {}\n",
    "    for i in range(len(stats)):\n",
    "        test_dict[columns[i]] = stats[i]\n",
    "    \n",
    "    # Saving checkpoint\n",
    "    if i % 3000 == 0:\n",
    "        filename = 'game_df_checkpoint.sav'\n",
    "        pickle.dump(master_dict, open(filename, 'wb')) \n",
    "    \n",
    "    # Append dictionary with 1 game stats to master dict\n",
    "    master_dict[key] = test_dict\n",
    "    \n",
    "    i += 1\n",
    "\n",
    "advanced_stats_pt2 = pd.DataFrame(master_dict)\n",
    "advanced_stats_pt2 = advanced_stats_pt2.T\n",
    "\n",
    "# Saving checkpoint\n",
    "pickle.dump(advanced_stats_final, open('../Data/full_advanced_stats.sav', 'wb')) "
   ]
  }
 ],
 "metadata": {
  "kernelspec": {
   "display_name": "bootcamp_env",
   "language": "python",
   "name": "bootcamp_env"
  },
  "language_info": {
   "codemirror_mode": {
    "name": "ipython",
    "version": 3
   },
   "file_extension": ".py",
   "mimetype": "text/x-python",
   "name": "python",
   "nbconvert_exporter": "python",
   "pygments_lexer": "ipython3",
   "version": "3.8.3"
  }
 },
 "nbformat": 4,
 "nbformat_minor": 4
}
